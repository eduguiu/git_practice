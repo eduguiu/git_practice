{
  "nbformat": 4,
  "nbformat_minor": 0,
  "metadata": {
    "colab": {
      "name": "WkFlw_ColabGH.ipynb",
      "provenance": [],
      "collapsed_sections": [],
      "authorship_tag": "ABX9TyNVMiq5G5CHQB1FNtcgkLND",
      "include_colab_link": true
    },
    "kernelspec": {
      "name": "python3",
      "display_name": "Python 3"
    }
  },
  "cells": [
    {
      "cell_type": "markdown",
      "metadata": {
        "id": "view-in-github",
        "colab_type": "text"
      },
      "source": [
        "<a href=\"https://colab.research.google.com/github/eduguiu/git_practice/blob/master/WkFlw_ColabGH.ipynb\" target=\"_parent\"><img src=\"https://colab.research.google.com/assets/colab-badge.svg\" alt=\"Open In Colab\"/></a>"
      ]
    },
    {
      "cell_type": "markdown",
      "metadata": {
        "id": "HHndCz8gO5hz"
      },
      "source": [
        "[Python workflow for interactive projects ](https://medium.com/analytics-vidhya/python-workflow-for-interactive-projects-colab-github-drive-kaggle-use-case-92252ce575e2)"
      ]
    },
    {
      "cell_type": "markdown",
      "metadata": {
        "id": "Z2kD-zKsT9qu"
      },
      "source": [
        "##1. Feature toggles and path"
      ]
    },
    {
      "cell_type": "code",
      "metadata": {
        "colab": {
          "base_uri": "https://localhost:8080/"
        },
        "id": "0tZQO7hVI6XJ",
        "outputId": "03cca1b5-28e1-4584-c144-098ebfa5bb08"
      },
      "source": [
        "COLAB = True\r\n",
        "KAGGLE = False\r\n",
        "DOWNLOAD_DATA = True\r\n",
        "SAVE_TO_GITHUB = False\r\n",
        "GIT_REPOSITORY = \"detectA\"\r\n",
        "FILE_NAME = \"DA_S012_ICGC_25_2019.ipynb\"\r\n",
        " \r\n",
        "if COLAB:\r\n",
        "    PARENT_DIRECTORY_PATH = \"/content\"\r\n",
        "    # In case you want to clone in your drive:\r\n",
        "    # PARENT_DIRECTORY_PATH = \"/content/gdrive/MyDrive\"\r\n",
        "    PROJECT_PATH = PARENT_DIRECTORY_PATH + \"/\" + GIT_REPOSITORY\r\n",
        "    %cd \"{PARENT_DIRECTORY_PATH}\""
      ],
      "execution_count": 5,
      "outputs": [
        {
          "output_type": "stream",
          "text": [
            "/content\n"
          ],
          "name": "stdout"
        }
      ]
    },
    {
      "cell_type": "markdown",
      "metadata": {
        "id": "GvrTOjJRUAok"
      },
      "source": [
        "##2. Linking personal Google Drive storage with Google Colab"
      ]
    },
    {
      "cell_type": "code",
      "metadata": {
        "colab": {
          "base_uri": "https://localhost:8080/"
        },
        "id": "MtcW3hFpJGeC",
        "outputId": "0e00bd39-9961-4a0b-b334-ddcd8a7ddda5"
      },
      "source": [
        "if COLAB:\r\n",
        "    %cd /content\r\n",
        "    from google.colab import drive\r\n",
        "    drive.mount('/content/gdrive')"
      ],
      "execution_count": 6,
      "outputs": [
        {
          "output_type": "stream",
          "text": [
            "/content\n",
            "Drive already mounted at /content/gdrive; to attempt to forcibly remount, call drive.mount(\"/content/gdrive\", force_remount=True).\n"
          ],
          "name": "stdout"
        }
      ]
    },
    {
      "cell_type": "markdown",
      "metadata": {
        "id": "cZFz28_CUDJu"
      },
      "source": [
        "##3. Clone GitHub repository to Colab Runtime system"
      ]
    },
    {
      "cell_type": "code",
      "metadata": {
        "colab": {
          "base_uri": "https://localhost:8080/"
        },
        "id": "cBmsAMYqJQXl",
        "outputId": "b49493e2-9817-4470-85ae-db5658b73ea5"
      },
      "source": [
        "if COLAB:\r\n",
        "    import json\r\n",
        " \r\n",
        "    with open(\"/content/gdrive/MyDrive/Git/git.json\", \"r\") as f:\r\n",
        "        parsed_json = json.load(f)\r\n",
        " \r\n",
        "    GIT_USER_NAME = parsed_json[\"GIT_USER_NAME\"]\r\n",
        "    GIT_TOKEN = parsed_json[\"GIT_TOKEN\"]\r\n",
        "    GIT_USER_EMAIL = parsed_json[\"GIT_USER_EMAIL\"]\r\n",
        " \r\n",
        "    GIT_PATH = (\r\n",
        "        f\"https://{GIT_TOKEN}@github.com/{GIT_USER_NAME}/{GIT_REPOSITORY}.git\"\r\n",
        "    )\r\n",
        " \r\n",
        "    %cd \"{PARENT_DIRECTORY_PATH}\"  \r\n",
        " \r\n",
        "    !git clone \"{GIT_PATH}\"  # Clone the github repository\r\n",
        " \r\n",
        "    %cd \"{PROJECT_PATH}\""
      ],
      "execution_count": 9,
      "outputs": [
        {
          "output_type": "stream",
          "text": [
            "/content\n",
            "Cloning into 'detectA'...\n",
            "remote: Enumerating objects: 38, done.\u001b[K\n",
            "remote: Counting objects: 100% (38/38), done.\u001b[K\n",
            "remote: Compressing objects: 100% (29/29), done.\u001b[K\n",
            "remote: Total 38 (delta 6), reused 3 (delta 0), pack-reused 0\u001b[K\n",
            "Unpacking objects: 100% (38/38), done.\n",
            "/content/detectA\n"
          ],
          "name": "stdout"
        }
      ]
    },
    {
      "cell_type": "markdown",
      "metadata": {
        "id": "7qpmYCmwUUMj"
      },
      "source": [
        "##6. Save changes to GitHub"
      ]
    },
    {
      "cell_type": "code",
      "metadata": {
        "id": "dwpCCopOJIpE"
      },
      "source": [
        "if SAVE_TO_GITHUB:\r\n",
        "    !git add {FILE_NAME}\r\n",
        "    !git config --global user.email {GIT_USER_EMAIL}\r\n",
        "    !git config --global user.name {GIT_USER_NAME}\r\n",
        "    !git commit -am \"update {FILE_NAME}\"\r\n",
        "    !git push"
      ],
      "execution_count": null,
      "outputs": []
    }
  ]
}